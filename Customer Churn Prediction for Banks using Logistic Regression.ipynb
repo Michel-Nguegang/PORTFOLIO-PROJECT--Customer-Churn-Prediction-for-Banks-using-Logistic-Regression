version https://git-lfs.github.com/spec/v1
oid sha256:f1ff6db250c7741d6c40f307609835220d2905aa0d6c180e12c32712acc086ea
size 576676
